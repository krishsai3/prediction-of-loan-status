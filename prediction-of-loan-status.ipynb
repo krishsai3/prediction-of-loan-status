{
 "cells": [
  {
   "cell_type": "markdown",
   "metadata": {
    "papermill": {
     "duration": 0.040461,
     "end_time": "2021-03-09T08:54:22.752776",
     "exception": false,
     "start_time": "2021-03-09T08:54:22.712315",
     "status": "completed"
    },
    "tags": []
   },
   "source": [
    "# Prediction of loan_status\n",
    "    \n",
    "\n",
    "* [Getting started with data](#1)\n",
    "* [Data_Visualization_and_Preprocessing](#2)\n",
    "* [Feature_Engineering](#3)\n",
    "* [Modeling](#4)"
   ]
  },
  {
   "cell_type": "markdown",
   "metadata": {
    "papermill": {
     "duration": 0.037727,
     "end_time": "2021-03-09T08:54:22.829582",
     "exception": false,
     "start_time": "2021-03-09T08:54:22.791855",
     "status": "completed"
    },
    "tags": []
   },
   "source": [
    "<a id=\"1\"></a> <br>\n",
    "# Getting started with data"
   ]
  },
  {
   "cell_type": "code",
   "execution_count": 1,
   "metadata": {
    "execution": {
     "iopub.execute_input": "2021-03-09T08:54:22.914958Z",
     "iopub.status.busy": "2021-03-09T08:54:22.914227Z",
     "iopub.status.idle": "2021-03-09T08:54:23.756601Z",
     "shell.execute_reply": "2021-03-09T08:54:23.755725Z"
    },
    "papermill": {
     "duration": 0.889258,
     "end_time": "2021-03-09T08:54:23.756853",
     "exception": false,
     "start_time": "2021-03-09T08:54:22.867595",
     "status": "completed"
    },
    "tags": []
   },
   "outputs": [],
   "source": [
    "import warnings\n",
    "warnings.filterwarnings('ignore')\n",
    "\n",
    "\n",
    "import itertools\n",
    "import numpy as np\n",
    "import pandas as pd\n",
    "import matplotlib.pyplot as plt\n",
    "from matplotlib.ticker import NullFormatter\n",
    "import seaborn as sns\n",
    "%matplotlib inline\n",
    "\n",
    "plt.style.use('fivethirtyeight')\n",
    "sns.set_style('darkgrid')"
   ]
  },
  {
   "cell_type": "code",
   "execution_count": 2,
   "metadata": {
    "execution": {
     "iopub.execute_input": "2021-03-09T08:54:23.841563Z",
     "iopub.status.busy": "2021-03-09T08:54:23.840885Z",
     "iopub.status.idle": "2021-03-09T08:54:24.378115Z",
     "shell.execute_reply": "2021-03-09T08:54:24.377554Z"
    },
    "papermill": {
     "duration": 0.580673,
     "end_time": "2021-03-09T08:54:24.378276",
     "exception": false,
     "start_time": "2021-03-09T08:54:23.797603",
     "status": "completed"
    },
    "tags": []
   },
   "outputs": [],
   "source": [
    "from sklearn.preprocessing import StandardScaler\n",
    "from sklearn.linear_model import LogisticRegression,Perceptron,SGDClassifier\n",
    "from sklearn.svm import SVC\n",
    "from sklearn.ensemble import RandomForestClassifier\n",
    "from sklearn.naive_bayes import GaussianNB\n",
    "from sklearn.tree import DecisionTreeClassifier\n",
    "from sklearn.neighbors import KNeighborsClassifier"
   ]
  },
  {
   "cell_type": "code",
   "execution_count": 3,
   "metadata": {
    "execution": {
     "iopub.execute_input": "2021-03-09T08:54:24.458617Z",
     "iopub.status.busy": "2021-03-09T08:54:24.457949Z",
     "iopub.status.idle": "2021-03-09T08:54:24.500908Z",
     "shell.execute_reply": "2021-03-09T08:54:24.500318Z"
    },
    "papermill": {
     "duration": 0.084826,
     "end_time": "2021-03-09T08:54:24.501047",
     "exception": false,
     "start_time": "2021-03-09T08:54:24.416221",
     "status": "completed"
    },
    "tags": []
   },
   "outputs": [
    {
     "data": {
      "text/html": [
       "<div>\n",
       "<style scoped>\n",
       "    .dataframe tbody tr th:only-of-type {\n",
       "        vertical-align: middle;\n",
       "    }\n",
       "\n",
       "    .dataframe tbody tr th {\n",
       "        vertical-align: top;\n",
       "    }\n",
       "\n",
       "    .dataframe thead th {\n",
       "        text-align: right;\n",
       "    }\n",
       "</style>\n",
       "<table border=\"1\" class=\"dataframe\">\n",
       "  <thead>\n",
       "    <tr style=\"text-align: right;\">\n",
       "      <th></th>\n",
       "      <th>Unnamed: 0</th>\n",
       "      <th>Unnamed: 0.1</th>\n",
       "      <th>loan_status</th>\n",
       "      <th>Principal</th>\n",
       "      <th>terms</th>\n",
       "      <th>effective_date</th>\n",
       "      <th>due_date</th>\n",
       "      <th>age</th>\n",
       "      <th>education</th>\n",
       "      <th>Gender</th>\n",
       "    </tr>\n",
       "  </thead>\n",
       "  <tbody>\n",
       "    <tr>\n",
       "      <th>0</th>\n",
       "      <td>0</td>\n",
       "      <td>0</td>\n",
       "      <td>PAIDOFF</td>\n",
       "      <td>1000</td>\n",
       "      <td>30</td>\n",
       "      <td>9/8/2016</td>\n",
       "      <td>10/7/2016</td>\n",
       "      <td>45</td>\n",
       "      <td>High School or Below</td>\n",
       "      <td>male</td>\n",
       "    </tr>\n",
       "    <tr>\n",
       "      <th>1</th>\n",
       "      <td>2</td>\n",
       "      <td>2</td>\n",
       "      <td>PAIDOFF</td>\n",
       "      <td>1000</td>\n",
       "      <td>30</td>\n",
       "      <td>9/8/2016</td>\n",
       "      <td>10/7/2016</td>\n",
       "      <td>33</td>\n",
       "      <td>Bechalor</td>\n",
       "      <td>female</td>\n",
       "    </tr>\n",
       "    <tr>\n",
       "      <th>2</th>\n",
       "      <td>3</td>\n",
       "      <td>3</td>\n",
       "      <td>PAIDOFF</td>\n",
       "      <td>1000</td>\n",
       "      <td>15</td>\n",
       "      <td>9/8/2016</td>\n",
       "      <td>9/22/2016</td>\n",
       "      <td>27</td>\n",
       "      <td>college</td>\n",
       "      <td>male</td>\n",
       "    </tr>\n",
       "    <tr>\n",
       "      <th>3</th>\n",
       "      <td>4</td>\n",
       "      <td>4</td>\n",
       "      <td>PAIDOFF</td>\n",
       "      <td>1000</td>\n",
       "      <td>30</td>\n",
       "      <td>9/9/2016</td>\n",
       "      <td>10/8/2016</td>\n",
       "      <td>28</td>\n",
       "      <td>college</td>\n",
       "      <td>female</td>\n",
       "    </tr>\n",
       "    <tr>\n",
       "      <th>4</th>\n",
       "      <td>6</td>\n",
       "      <td>6</td>\n",
       "      <td>PAIDOFF</td>\n",
       "      <td>1000</td>\n",
       "      <td>30</td>\n",
       "      <td>9/9/2016</td>\n",
       "      <td>10/8/2016</td>\n",
       "      <td>29</td>\n",
       "      <td>college</td>\n",
       "      <td>male</td>\n",
       "    </tr>\n",
       "  </tbody>\n",
       "</table>\n",
       "</div>"
      ],
      "text/plain": [
       "   Unnamed: 0  Unnamed: 0.1 loan_status  Principal  terms effective_date  \\\n",
       "0           0             0     PAIDOFF       1000     30       9/8/2016   \n",
       "1           2             2     PAIDOFF       1000     30       9/8/2016   \n",
       "2           3             3     PAIDOFF       1000     15       9/8/2016   \n",
       "3           4             4     PAIDOFF       1000     30       9/9/2016   \n",
       "4           6             6     PAIDOFF       1000     30       9/9/2016   \n",
       "\n",
       "    due_date  age             education  Gender  \n",
       "0  10/7/2016   45  High School or Below    male  \n",
       "1  10/7/2016   33              Bechalor  female  \n",
       "2  9/22/2016   27               college    male  \n",
       "3  10/8/2016   28               college  female  \n",
       "4  10/8/2016   29               college    male  "
      ]
     },
     "execution_count": 3,
     "metadata": {},
     "output_type": "execute_result"
    }
   ],
   "source": [
    "train=pd.read_csv('../input/train-data/loan_train.csv')\n",
    "train.head()"
   ]
  },
  {
   "cell_type": "code",
   "execution_count": 4,
   "metadata": {
    "execution": {
     "iopub.execute_input": "2021-03-09T08:54:24.594316Z",
     "iopub.status.busy": "2021-03-09T08:54:24.593630Z",
     "iopub.status.idle": "2021-03-09T08:54:24.597379Z",
     "shell.execute_reply": "2021-03-09T08:54:24.597928Z"
    },
    "papermill": {
     "duration": 0.057808,
     "end_time": "2021-03-09T08:54:24.598118",
     "exception": false,
     "start_time": "2021-03-09T08:54:24.540310",
     "status": "completed"
    },
    "tags": []
   },
   "outputs": [
    {
     "data": {
      "text/html": [
       "<div>\n",
       "<style scoped>\n",
       "    .dataframe tbody tr th:only-of-type {\n",
       "        vertical-align: middle;\n",
       "    }\n",
       "\n",
       "    .dataframe tbody tr th {\n",
       "        vertical-align: top;\n",
       "    }\n",
       "\n",
       "    .dataframe thead th {\n",
       "        text-align: right;\n",
       "    }\n",
       "</style>\n",
       "<table border=\"1\" class=\"dataframe\">\n",
       "  <thead>\n",
       "    <tr style=\"text-align: right;\">\n",
       "      <th></th>\n",
       "      <th>Unnamed: 0</th>\n",
       "      <th>Unnamed: 0.1</th>\n",
       "      <th>loan_status</th>\n",
       "      <th>Principal</th>\n",
       "      <th>terms</th>\n",
       "      <th>effective_date</th>\n",
       "      <th>due_date</th>\n",
       "      <th>age</th>\n",
       "      <th>education</th>\n",
       "      <th>Gender</th>\n",
       "    </tr>\n",
       "  </thead>\n",
       "  <tbody>\n",
       "    <tr>\n",
       "      <th>341</th>\n",
       "      <td>394</td>\n",
       "      <td>394</td>\n",
       "      <td>COLLECTION</td>\n",
       "      <td>800</td>\n",
       "      <td>15</td>\n",
       "      <td>9/11/2016</td>\n",
       "      <td>9/25/2016</td>\n",
       "      <td>32</td>\n",
       "      <td>High School or Below</td>\n",
       "      <td>male</td>\n",
       "    </tr>\n",
       "    <tr>\n",
       "      <th>342</th>\n",
       "      <td>395</td>\n",
       "      <td>395</td>\n",
       "      <td>COLLECTION</td>\n",
       "      <td>1000</td>\n",
       "      <td>30</td>\n",
       "      <td>9/11/2016</td>\n",
       "      <td>10/10/2016</td>\n",
       "      <td>25</td>\n",
       "      <td>High School or Below</td>\n",
       "      <td>male</td>\n",
       "    </tr>\n",
       "    <tr>\n",
       "      <th>343</th>\n",
       "      <td>397</td>\n",
       "      <td>397</td>\n",
       "      <td>COLLECTION</td>\n",
       "      <td>800</td>\n",
       "      <td>15</td>\n",
       "      <td>9/12/2016</td>\n",
       "      <td>9/26/2016</td>\n",
       "      <td>39</td>\n",
       "      <td>college</td>\n",
       "      <td>male</td>\n",
       "    </tr>\n",
       "    <tr>\n",
       "      <th>344</th>\n",
       "      <td>398</td>\n",
       "      <td>398</td>\n",
       "      <td>COLLECTION</td>\n",
       "      <td>1000</td>\n",
       "      <td>30</td>\n",
       "      <td>9/12/2016</td>\n",
       "      <td>11/10/2016</td>\n",
       "      <td>28</td>\n",
       "      <td>college</td>\n",
       "      <td>male</td>\n",
       "    </tr>\n",
       "    <tr>\n",
       "      <th>345</th>\n",
       "      <td>399</td>\n",
       "      <td>399</td>\n",
       "      <td>COLLECTION</td>\n",
       "      <td>1000</td>\n",
       "      <td>30</td>\n",
       "      <td>9/12/2016</td>\n",
       "      <td>10/11/2016</td>\n",
       "      <td>26</td>\n",
       "      <td>college</td>\n",
       "      <td>male</td>\n",
       "    </tr>\n",
       "  </tbody>\n",
       "</table>\n",
       "</div>"
      ],
      "text/plain": [
       "     Unnamed: 0  Unnamed: 0.1 loan_status  Principal  terms effective_date  \\\n",
       "341         394           394  COLLECTION        800     15      9/11/2016   \n",
       "342         395           395  COLLECTION       1000     30      9/11/2016   \n",
       "343         397           397  COLLECTION        800     15      9/12/2016   \n",
       "344         398           398  COLLECTION       1000     30      9/12/2016   \n",
       "345         399           399  COLLECTION       1000     30      9/12/2016   \n",
       "\n",
       "       due_date  age             education Gender  \n",
       "341   9/25/2016   32  High School or Below   male  \n",
       "342  10/10/2016   25  High School or Below   male  \n",
       "343   9/26/2016   39               college   male  \n",
       "344  11/10/2016   28               college   male  \n",
       "345  10/11/2016   26               college   male  "
      ]
     },
     "execution_count": 4,
     "metadata": {},
     "output_type": "execute_result"
    }
   ],
   "source": [
    "train.tail()"
   ]
  },
  {
   "cell_type": "code",
   "execution_count": 5,
   "metadata": {
    "execution": {
     "iopub.execute_input": "2021-03-09T08:54:24.680339Z",
     "iopub.status.busy": "2021-03-09T08:54:24.679717Z",
     "iopub.status.idle": "2021-03-09T08:54:24.697282Z",
     "shell.execute_reply": "2021-03-09T08:54:24.696675Z"
    },
    "papermill": {
     "duration": 0.05985,
     "end_time": "2021-03-09T08:54:24.697431",
     "exception": false,
     "start_time": "2021-03-09T08:54:24.637581",
     "status": "completed"
    },
    "tags": []
   },
   "outputs": [
    {
     "name": "stdout",
     "output_type": "stream",
     "text": [
      "<class 'pandas.core.frame.DataFrame'>\n",
      "RangeIndex: 346 entries, 0 to 345\n",
      "Data columns (total 10 columns):\n",
      " #   Column          Non-Null Count  Dtype \n",
      "---  ------          --------------  ----- \n",
      " 0   Unnamed: 0      346 non-null    int64 \n",
      " 1   Unnamed: 0.1    346 non-null    int64 \n",
      " 2   loan_status     346 non-null    object\n",
      " 3   Principal       346 non-null    int64 \n",
      " 4   terms           346 non-null    int64 \n",
      " 5   effective_date  346 non-null    object\n",
      " 6   due_date        346 non-null    object\n",
      " 7   age             346 non-null    int64 \n",
      " 8   education       346 non-null    object\n",
      " 9   Gender          346 non-null    object\n",
      "dtypes: int64(5), object(5)\n",
      "memory usage: 27.2+ KB\n"
     ]
    }
   ],
   "source": [
    "train.info()"
   ]
  },
  {
   "cell_type": "code",
   "execution_count": 6,
   "metadata": {
    "execution": {
     "iopub.execute_input": "2021-03-09T08:54:24.793636Z",
     "iopub.status.busy": "2021-03-09T08:54:24.792605Z",
     "iopub.status.idle": "2021-03-09T08:54:24.797763Z",
     "shell.execute_reply": "2021-03-09T08:54:24.797131Z"
    },
    "papermill": {
     "duration": 0.060188,
     "end_time": "2021-03-09T08:54:24.797901",
     "exception": false,
     "start_time": "2021-03-09T08:54:24.737713",
     "status": "completed"
    },
    "tags": []
   },
   "outputs": [
    {
     "data": {
      "text/html": [
       "<div>\n",
       "<style scoped>\n",
       "    .dataframe tbody tr th:only-of-type {\n",
       "        vertical-align: middle;\n",
       "    }\n",
       "\n",
       "    .dataframe tbody tr th {\n",
       "        vertical-align: top;\n",
       "    }\n",
       "\n",
       "    .dataframe thead th {\n",
       "        text-align: right;\n",
       "    }\n",
       "</style>\n",
       "<table border=\"1\" class=\"dataframe\">\n",
       "  <thead>\n",
       "    <tr style=\"text-align: right;\">\n",
       "      <th></th>\n",
       "      <th>Unnamed: 0</th>\n",
       "      <th>Unnamed: 0.1</th>\n",
       "      <th>Principal</th>\n",
       "      <th>terms</th>\n",
       "      <th>age</th>\n",
       "    </tr>\n",
       "  </thead>\n",
       "  <tbody>\n",
       "    <tr>\n",
       "      <th>Unnamed: 0</th>\n",
       "      <td>1.000000</td>\n",
       "      <td>1.000000</td>\n",
       "      <td>0.032456</td>\n",
       "      <td>0.061522</td>\n",
       "      <td>-0.012264</td>\n",
       "    </tr>\n",
       "    <tr>\n",
       "      <th>Unnamed: 0.1</th>\n",
       "      <td>1.000000</td>\n",
       "      <td>1.000000</td>\n",
       "      <td>0.032456</td>\n",
       "      <td>0.061522</td>\n",
       "      <td>-0.012264</td>\n",
       "    </tr>\n",
       "    <tr>\n",
       "      <th>Principal</th>\n",
       "      <td>0.032456</td>\n",
       "      <td>0.032456</td>\n",
       "      <td>1.000000</td>\n",
       "      <td>0.521876</td>\n",
       "      <td>-0.060893</td>\n",
       "    </tr>\n",
       "    <tr>\n",
       "      <th>terms</th>\n",
       "      <td>0.061522</td>\n",
       "      <td>0.061522</td>\n",
       "      <td>0.521876</td>\n",
       "      <td>1.000000</td>\n",
       "      <td>-0.064762</td>\n",
       "    </tr>\n",
       "    <tr>\n",
       "      <th>age</th>\n",
       "      <td>-0.012264</td>\n",
       "      <td>-0.012264</td>\n",
       "      <td>-0.060893</td>\n",
       "      <td>-0.064762</td>\n",
       "      <td>1.000000</td>\n",
       "    </tr>\n",
       "  </tbody>\n",
       "</table>\n",
       "</div>"
      ],
      "text/plain": [
       "              Unnamed: 0  Unnamed: 0.1  Principal     terms       age\n",
       "Unnamed: 0      1.000000      1.000000   0.032456  0.061522 -0.012264\n",
       "Unnamed: 0.1    1.000000      1.000000   0.032456  0.061522 -0.012264\n",
       "Principal       0.032456      0.032456   1.000000  0.521876 -0.060893\n",
       "terms           0.061522      0.061522   0.521876  1.000000 -0.064762\n",
       "age            -0.012264     -0.012264  -0.060893 -0.064762  1.000000"
      ]
     },
     "execution_count": 6,
     "metadata": {},
     "output_type": "execute_result"
    }
   ],
   "source": [
    "train.corr()"
   ]
  },
  {
   "cell_type": "markdown",
   "metadata": {
    "papermill": {
     "duration": 0.040595,
     "end_time": "2021-03-09T08:54:24.878979",
     "exception": false,
     "start_time": "2021-03-09T08:54:24.838384",
     "status": "completed"
    },
    "tags": []
   },
   "source": [
    "We can see that **Unnamed: 0** and **Unnamed: 0.1** are highly correlated."
   ]
  },
  {
   "cell_type": "code",
   "execution_count": 7,
   "metadata": {
    "execution": {
     "iopub.execute_input": "2021-03-09T08:54:24.996225Z",
     "iopub.status.busy": "2021-03-09T08:54:24.995437Z",
     "iopub.status.idle": "2021-03-09T08:54:25.453454Z",
     "shell.execute_reply": "2021-03-09T08:54:25.453932Z"
    },
    "papermill": {
     "duration": 0.533015,
     "end_time": "2021-03-09T08:54:25.454125",
     "exception": false,
     "start_time": "2021-03-09T08:54:24.921110",
     "status": "completed"
    },
    "tags": []
   },
   "outputs": [
    {
     "data": {
      "text/plain": [
       "<AxesSubplot:xlabel='Unnamed: 0', ylabel='Density'>"
      ]
     },
     "execution_count": 7,
     "metadata": {},
     "output_type": "execute_result"
    },
    {
     "data": {
      "image/png": "[encoded data removed]",
      "text/plain": [
       "<Figure size 1440x360 with 2 Axes>"
      ]
     },
     "metadata": {},
     "output_type": "display_data"
    }
   ],
   "source": [
    "plt.figure(figsize=(20,5))\n",
    "plt.subplot(1,3,1)\n",
    "sns.distplot(train['Unnamed: 0.1'])\n",
    "plt.subplot(1,3,2)\n",
    "sns.distplot(train['Unnamed: 0'])"
   ]
  },
  {
   "cell_type": "markdown",
   "metadata": {
    "papermill": {
     "duration": 0.042266,
     "end_time": "2021-03-09T08:54:25.538882",
     "exception": false,
     "start_time": "2021-03-09T08:54:25.496616",
     "status": "completed"
    },
    "tags": []
   },
   "source": [
    "Since,both are depending on each other, those are correlated with each other.<br>\n",
    "Hence,we can drop any of them"
   ]
  },
  {
   "cell_type": "code",
   "execution_count": 8,
   "metadata": {
    "execution": {
     "iopub.execute_input": "2021-03-09T08:54:25.626834Z",
     "iopub.status.busy": "2021-03-09T08:54:25.626221Z",
     "iopub.status.idle": "2021-03-09T08:54:25.631238Z",
     "shell.execute_reply": "2021-03-09T08:54:25.631714Z"
    },
    "papermill": {
     "duration": 0.050642,
     "end_time": "2021-03-09T08:54:25.631880",
     "exception": false,
     "start_time": "2021-03-09T08:54:25.581238",
     "status": "completed"
    },
    "tags": []
   },
   "outputs": [],
   "source": [
    "train=train.drop('Unnamed: 0.1',axis=1)"
   ]
  },
  {
   "cell_type": "code",
   "execution_count": 9,
   "metadata": {
    "execution": {
     "iopub.execute_input": "2021-03-09T08:54:25.723822Z",
     "iopub.status.busy": "2021-03-09T08:54:25.723044Z",
     "iopub.status.idle": "2021-03-09T08:54:25.727501Z",
     "shell.execute_reply": "2021-03-09T08:54:25.726570Z"
    },
    "papermill": {
     "duration": 0.053447,
     "end_time": "2021-03-09T08:54:25.727727",
     "exception": false,
     "start_time": "2021-03-09T08:54:25.674280",
     "status": "completed"
    },
    "tags": []
   },
   "outputs": [],
   "source": [
    "cat_var=['loan_status','Principal','terms','education','Gender']"
   ]
  },
  {
   "cell_type": "code",
   "execution_count": 10,
   "metadata": {
    "execution": {
     "iopub.execute_input": "2021-03-09T08:54:25.840596Z",
     "iopub.status.busy": "2021-03-09T08:54:25.839010Z",
     "iopub.status.idle": "2021-03-09T08:54:25.845410Z",
     "shell.execute_reply": "2021-03-09T08:54:25.844502Z"
    },
    "papermill": {
     "duration": 0.07218,
     "end_time": "2021-03-09T08:54:25.845649",
     "exception": false,
     "start_time": "2021-03-09T08:54:25.773469",
     "status": "completed"
    },
    "tags": []
   },
   "outputs": [
    {
     "name": "stdout",
     "output_type": "stream",
     "text": [
      "Number of unique_value in column LOAN_STATUS of lenth 2 are {'PAIDOFF': 260, 'COLLECTION': 86}\n",
      "Number of unique_value in column PRINCIPAL of lenth 5 are {1000: 258, 800: 81, 300: 3, 900: 2, 500: 2}\n",
      "Number of unique_value in column TERMS of lenth 3 are {30: 184, 15: 148, 7: 14}\n",
      "Number of unique_value in column EDUCATION of lenth 4 are {'High School or Below': 151, 'college': 149, 'Bechalor': 44, 'Master or Above': 2}\n",
      "Number of unique_value in column GENDER of lenth 2 are {'male': 294, 'female': 52}\n"
     ]
    }
   ],
   "source": [
    "def value_counts(cat_var):\n",
    "    each_cols=train[cat_var]\n",
    "    for i in each_cols:\n",
    "        print(\"Number of unique_value in column {} of lenth {} are {}\".format(i.upper(),\n",
    "                                            len(dict(each_cols[i].value_counts())),\n",
    "                                            dict(each_cols[i].value_counts())))\n",
    "value_counts(cat_var)"
   ]
  },
  {
   "cell_type": "code",
   "execution_count": 11,
   "metadata": {
    "execution": {
     "iopub.execute_input": "2021-03-09T08:54:25.940536Z",
     "iopub.status.busy": "2021-03-09T08:54:25.939775Z",
     "iopub.status.idle": "2021-03-09T08:54:26.342324Z",
     "shell.execute_reply": "2021-03-09T08:54:26.341637Z"
    },
    "papermill": {
     "duration": 0.451966,
     "end_time": "2021-03-09T08:54:26.342478",
     "exception": false,
     "start_time": "2021-03-09T08:54:25.890512",
     "status": "completed"
    },
    "tags": []
   },
   "outputs": [
    {
     "data": {
      "text/plain": [
       "<AxesSubplot:>"
      ]
     },
     "execution_count": 11,
     "metadata": {},
     "output_type": "execute_result"
    },
    {
     "data": {
      "image/png": "[encoded data removed]",
      "text/plain": [
       "<Figure size 1800x720 with 2 Axes>"
      ]
     },
     "metadata": {},
     "output_type": "display_data"
    }
   ],
   "source": [
    "import missingno as mn\n",
    "mn.matrix(train)"
   ]
  },
  {
   "cell_type": "code",
   "execution_count": 12,
   "metadata": {
    "execution": {
     "iopub.execute_input": "2021-03-09T08:54:26.440473Z",
     "iopub.status.busy": "2021-03-09T08:54:26.439786Z",
     "iopub.status.idle": "2021-03-09T08:54:26.459073Z",
     "shell.execute_reply": "2021-03-09T08:54:26.458528Z"
    },
    "papermill": {
     "duration": 0.071593,
     "end_time": "2021-03-09T08:54:26.459233",
     "exception": false,
     "start_time": "2021-03-09T08:54:26.387640",
     "status": "completed"
    },
    "tags": []
   },
   "outputs": [
    {
     "data": {
      "text/html": [
       "<div>\n",
       "<style scoped>\n",
       "    .dataframe tbody tr th:only-of-type {\n",
       "        vertical-align: middle;\n",
       "    }\n",
       "\n",
       "    .dataframe tbody tr th {\n",
       "        vertical-align: top;\n",
       "    }\n",
       "\n",
       "    .dataframe thead th {\n",
       "        text-align: right;\n",
       "    }\n",
       "</style>\n",
       "<table border=\"1\" class=\"dataframe\">\n",
       "  <thead>\n",
       "    <tr style=\"text-align: right;\">\n",
       "      <th></th>\n",
       "      <th>Unnamed: 0</th>\n",
       "      <th>Principal</th>\n",
       "      <th>terms</th>\n",
       "      <th>age</th>\n",
       "    </tr>\n",
       "  </thead>\n",
       "  <tbody>\n",
       "    <tr>\n",
       "      <th>count</th>\n",
       "      <td>346.000</td>\n",
       "      <td>346.000</td>\n",
       "      <td>346.000</td>\n",
       "      <td>346.000</td>\n",
       "    </tr>\n",
       "    <tr>\n",
       "      <th>mean</th>\n",
       "      <td>202.168</td>\n",
       "      <td>943.642</td>\n",
       "      <td>22.653</td>\n",
       "      <td>30.939</td>\n",
       "    </tr>\n",
       "    <tr>\n",
       "      <th>std</th>\n",
       "      <td>115.460</td>\n",
       "      <td>109.426</td>\n",
       "      <td>7.991</td>\n",
       "      <td>6.039</td>\n",
       "    </tr>\n",
       "    <tr>\n",
       "      <th>min</th>\n",
       "      <td>0.000</td>\n",
       "      <td>300.000</td>\n",
       "      <td>7.000</td>\n",
       "      <td>18.000</td>\n",
       "    </tr>\n",
       "    <tr>\n",
       "      <th>25%</th>\n",
       "      <td>107.250</td>\n",
       "      <td>900.000</td>\n",
       "      <td>15.000</td>\n",
       "      <td>27.000</td>\n",
       "    </tr>\n",
       "    <tr>\n",
       "      <th>50%</th>\n",
       "      <td>204.500</td>\n",
       "      <td>1000.000</td>\n",
       "      <td>30.000</td>\n",
       "      <td>30.000</td>\n",
       "    </tr>\n",
       "    <tr>\n",
       "      <th>75%</th>\n",
       "      <td>298.750</td>\n",
       "      <td>1000.000</td>\n",
       "      <td>30.000</td>\n",
       "      <td>35.000</td>\n",
       "    </tr>\n",
       "    <tr>\n",
       "      <th>max</th>\n",
       "      <td>399.000</td>\n",
       "      <td>1000.000</td>\n",
       "      <td>30.000</td>\n",
       "      <td>51.000</td>\n",
       "    </tr>\n",
       "  </tbody>\n",
       "</table>\n",
       "</div>"
      ],
      "text/plain": [
       "       Unnamed: 0  Principal   terms     age\n",
       "count     346.000    346.000 346.000 346.000\n",
       "mean      202.168    943.642  22.653  30.939\n",
       "std       115.460    109.426   7.991   6.039\n",
       "min         0.000    300.000   7.000  18.000\n",
       "25%       107.250    900.000  15.000  27.000\n",
       "50%       204.500   1000.000  30.000  30.000\n",
       "75%       298.750   1000.000  30.000  35.000\n",
       "max       399.000   1000.000  30.000  51.000"
      ]
     },
     "execution_count": 12,
     "metadata": {},
     "output_type": "execute_result"
    }
   ],
   "source": [
    "pd.set_option('display.float_format',lambda x:'%.3f' %x)\n",
    "train.describe()"
   ]
  },
  {
   "cell_type": "code",
   "execution_count": 13,
   "metadata": {
    "execution": {
     "iopub.execute_input": "2021-03-09T08:54:26.573443Z",
     "iopub.status.busy": "2021-03-09T08:54:26.572731Z",
     "iopub.status.idle": "2021-03-09T08:54:26.576618Z",
     "shell.execute_reply": "2021-03-09T08:54:26.576008Z"
    },
    "papermill": {
     "duration": 0.07227,
     "end_time": "2021-03-09T08:54:26.576765",
     "exception": false,
     "start_time": "2021-03-09T08:54:26.504495",
     "status": "completed"
    },
    "scrolled": true,
    "tags": []
   },
   "outputs": [
    {
     "data": {
      "text/html": [
       "<div>\n",
       "<style scoped>\n",
       "    .dataframe tbody tr th:only-of-type {\n",
       "        vertical-align: middle;\n",
       "    }\n",
       "\n",
       "    .dataframe tbody tr th {\n",
       "        vertical-align: top;\n",
       "    }\n",
       "\n",
       "    .dataframe thead th {\n",
       "        text-align: right;\n",
       "    }\n",
       "</style>\n",
       "<table border=\"1\" class=\"dataframe\">\n",
       "  <thead>\n",
       "    <tr style=\"text-align: right;\">\n",
       "      <th></th>\n",
       "      <th>loan_status</th>\n",
       "      <th>effective_date</th>\n",
       "      <th>due_date</th>\n",
       "      <th>education</th>\n",
       "      <th>Gender</th>\n",
       "    </tr>\n",
       "  </thead>\n",
       "  <tbody>\n",
       "    <tr>\n",
       "      <th>count</th>\n",
       "      <td>346</td>\n",
       "      <td>346</td>\n",
       "      <td>346</td>\n",
       "      <td>346</td>\n",
       "      <td>346</td>\n",
       "    </tr>\n",
       "    <tr>\n",
       "      <th>unique</th>\n",
       "      <td>2</td>\n",
       "      <td>7</td>\n",
       "      <td>23</td>\n",
       "      <td>4</td>\n",
       "      <td>2</td>\n",
       "    </tr>\n",
       "    <tr>\n",
       "      <th>top</th>\n",
       "      <td>PAIDOFF</td>\n",
       "      <td>9/11/2016</td>\n",
       "      <td>10/10/2016</td>\n",
       "      <td>High School or Below</td>\n",
       "      <td>male</td>\n",
       "    </tr>\n",
       "    <tr>\n",
       "      <th>freq</th>\n",
       "      <td>260</td>\n",
       "      <td>166</td>\n",
       "      <td>90</td>\n",
       "      <td>151</td>\n",
       "      <td>294</td>\n",
       "    </tr>\n",
       "  </tbody>\n",
       "</table>\n",
       "</div>"
      ],
      "text/plain": [
       "       loan_status effective_date    due_date             education Gender\n",
       "count          346            346         346                   346    346\n",
       "unique           2              7          23                     4      2\n",
       "top        PAIDOFF      9/11/2016  10/10/2016  High School or Below   male\n",
       "freq           260            166          90                   151    294"
      ]
     },
     "execution_count": 13,
     "metadata": {},
     "output_type": "execute_result"
    }
   ],
   "source": [
    "#distribution of categorical features\n",
    "train.describe(include=[\"O\"])"
   ]
  },
  {
   "cell_type": "markdown",
   "metadata": {
    "papermill": {
     "duration": 0.04563,
     "end_time": "2021-03-09T08:54:26.668512",
     "exception": false,
     "start_time": "2021-03-09T08:54:26.622882",
     "status": "completed"
    },
    "tags": []
   },
   "source": [
    "<a id=\"2\"></a></br>\n",
    "# Date Visualization and Preprocessing"
   ]
  },
  {
   "cell_type": "markdown",
   "metadata": {
    "papermill": {
     "duration": 0.045862,
     "end_time": "2021-03-09T08:54:26.760702",
     "exception": false,
     "start_time": "2021-03-09T08:54:26.714840",
     "status": "completed"
    },
    "tags": []
   },
   "source": [
    "## Analyzing Features"
   ]
  },
  {
   "cell_type": "markdown",
   "metadata": {
    "papermill": {
     "duration": 0.045882,
     "end_time": "2021-03-09T08:54:26.852735",
     "exception": false,
     "start_time": "2021-03-09T08:54:26.806853",
     "status": "completed"
    },
    "tags": []
   },
   "source": [
    "**Categorical :** loan_status,education,Gender and **DateTimeFormat :** effective_date,due_date\n",
    "\n",
    "**Continuous :** age and **discrete :** Principal,terms"
   ]
  },
  {
   "cell_type": "code",
   "execution_count": 14,
   "metadata": {
    "execution": {
     "iopub.execute_input": "2021-03-09T08:54:26.974616Z",
     "iopub.status.busy": "2021-03-09T08:54:26.973597Z",
     "iopub.status.idle": "2021-03-09T08:54:27.482277Z",
     "shell.execute_reply": "2021-03-09T08:54:27.481717Z"
    },
    "papermill": {
     "duration": 0.582739,
     "end_time": "2021-03-09T08:54:27.482422",
     "exception": false,
     "start_time": "2021-03-09T08:54:26.899683",
     "status": "completed"
    },
    "scrolled": true,
    "tags": []
   },
   "outputs": [
    {
     "data": {
      "text/plain": [
       "<matplotlib.legend.Legend at 0x7fd923103410>"
      ]
     },
     "execution_count": 14,
     "metadata": {},
     "output_type": "execute_result"
    },
    {
     "data": {
      "image/png": "[encoded data removed]",
      "text/plain": [
       "<Figure size 432x216 with 2 Axes>"
      ]
     },
     "metadata": {},
     "output_type": "display_data"
    }
   ],
   "source": [
    "bins=np.linspace(train.Principal.min(),train.Principal.max(),10)\n",
    "g=sns.FacetGrid(train,col='Gender',hue='loan_status',palette='Set1',col_wrap=2)\n",
    "g.map(plt.hist,'Principal',bins=bins,ec='k')\n",
    "g.axes[-1].legend()"
   ]
  },
  {
   "cell_type": "code",
   "execution_count": 15,
   "metadata": {
    "execution": {
     "iopub.execute_input": "2021-03-09T08:54:27.603983Z",
     "iopub.status.busy": "2021-03-09T08:54:27.601456Z",
     "iopub.status.idle": "2021-03-09T08:54:28.146499Z",
     "shell.execute_reply": "2021-03-09T08:54:28.145470Z"
    },
    "papermill": {
     "duration": 0.616309,
     "end_time": "2021-03-09T08:54:28.146669",
     "exception": false,
     "start_time": "2021-03-09T08:54:27.530360",
     "status": "completed"
    },
    "tags": []
   },
   "outputs": [
    {
     "data": {
      "text/plain": [
       "<matplotlib.legend.Legend at 0x7fd9231c8610>"
      ]
     },
     "execution_count": 15,
     "metadata": {},
     "output_type": "execute_result"
    },
    {
     "data": {
      "image/png": "[encoded data removed]",
      "text/plain": [
       "<Figure size 432x216 with 2 Axes>"
      ]
     },
     "metadata": {},
     "output_type": "display_data"
    }
   ],
   "source": [
    "bins=np.linspace(train.age.min(),train.age.max(),10)\n",
    "g=sns.FacetGrid(train,col='Gender',hue='loan_status',palette='Set1',col_wrap=2)\n",
    "g.map(plt.hist,'age',bins=bins,ec='k')\n",
    "g.axes[-1].legend()"
   ]
  },
  {
   "cell_type": "code",
   "execution_count": 16,
   "metadata": {
    "execution": {
     "iopub.execute_input": "2021-03-09T08:54:28.263949Z",
     "iopub.status.busy": "2021-03-09T08:54:28.263286Z",
     "iopub.status.idle": "2021-03-09T08:54:28.266660Z",
     "shell.execute_reply": "2021-03-09T08:54:28.266004Z"
    },
    "papermill": {
     "duration": 0.070682,
     "end_time": "2021-03-09T08:54:28.266816",
     "exception": false,
     "start_time": "2021-03-09T08:54:28.196134",
     "status": "completed"
    },
    "tags": []
   },
   "outputs": [],
   "source": [
    "train['due_date'] = pd.to_datetime(train['due_date'])\n",
    "train['effective_date'] = pd.to_datetime(train['effective_date'])"
   ]
  },
  {
   "cell_type": "code",
   "execution_count": 17,
   "metadata": {
    "execution": {
     "iopub.execute_input": "2021-03-09T08:54:28.396267Z",
     "iopub.status.busy": "2021-03-09T08:54:28.375416Z",
     "iopub.status.idle": "2021-03-09T08:54:28.946942Z",
     "shell.execute_reply": "2021-03-09T08:54:28.947439Z"
    },
    "papermill": {
     "duration": 0.630917,
     "end_time": "2021-03-09T08:54:28.947635",
     "exception": false,
     "start_time": "2021-03-09T08:54:28.316718",
     "status": "completed"
    },
    "tags": []
   },
   "outputs": [
    {
     "data": {
      "image/png": "[encoded data removed]",
      "text/plain": [
       "<Figure size 432x216 with 2 Axes>"
      ]
     },
     "metadata": {},
     "output_type": "display_data"
    }
   ],
   "source": [
    "train['dayofweek']=train['effective_date'].dt.dayofweek\n",
    "bins = np.linspace(train.dayofweek.min(), train.dayofweek.max(), 10)\n",
    "g = sns.FacetGrid(train, col=\"Gender\", hue=\"loan_status\", palette=\"Set1\", col_wrap=2)\n",
    "g.map(plt.hist, 'dayofweek', bins=bins, ec=\"k\")\n",
    "g.axes[-1].legend()\n",
    "plt.show()\n"
   ]
  },
  {
   "cell_type": "markdown",
   "metadata": {
    "papermill": {
     "duration": 0.051519,
     "end_time": "2021-03-09T08:54:29.048770",
     "exception": false,
     "start_time": "2021-03-09T08:54:28.997251",
     "status": "completed"
    },
    "tags": []
   },
   "source": [
    "We see that people who get the loan at the end of the week dont pay it off, so lets use Feature binarization to set a threshold values less then day 4 "
   ]
  },
  {
   "cell_type": "code",
   "execution_count": 18,
   "metadata": {
    "execution": {
     "iopub.execute_input": "2021-03-09T08:54:29.151855Z",
     "iopub.status.busy": "2021-03-09T08:54:29.150850Z",
     "iopub.status.idle": "2021-03-09T08:54:29.168359Z",
     "shell.execute_reply": "2021-03-09T08:54:29.168813Z"
    },
    "papermill": {
     "duration": 0.070592,
     "end_time": "2021-03-09T08:54:29.168996",
     "exception": false,
     "start_time": "2021-03-09T08:54:29.098404",
     "status": "completed"
    },
    "tags": []
   },
   "outputs": [
    {
     "data": {
      "text/html": [
       "<div>\n",
       "<style scoped>\n",
       "    .dataframe tbody tr th:only-of-type {\n",
       "        vertical-align: middle;\n",
       "    }\n",
       "\n",
       "    .dataframe tbody tr th {\n",
       "        vertical-align: top;\n",
       "    }\n",
       "\n",
       "    .dataframe thead th {\n",
       "        text-align: right;\n",
       "    }\n",
       "</style>\n",
       "<table border=\"1\" class=\"dataframe\">\n",
       "  <thead>\n",
       "    <tr style=\"text-align: right;\">\n",
       "      <th></th>\n",
       "      <th>Unnamed: 0</th>\n",
       "      <th>loan_status</th>\n",
       "      <th>Principal</th>\n",
       "      <th>terms</th>\n",
       "      <th>effective_date</th>\n",
       "      <th>due_date</th>\n",
       "      <th>age</th>\n",
       "      <th>education</th>\n",
       "      <th>Gender</th>\n",
       "      <th>dayofweek</th>\n",
       "      <th>weekend</th>\n",
       "    </tr>\n",
       "  </thead>\n",
       "  <tbody>\n",
       "    <tr>\n",
       "      <th>0</th>\n",
       "      <td>0</td>\n",
       "      <td>PAIDOFF</td>\n",
       "      <td>1000</td>\n",
       "      <td>30</td>\n",
       "      <td>2016-09-08</td>\n",
       "      <td>2016-10-07</td>\n",
       "      <td>45</td>\n",
       "      <td>High School or Below</td>\n",
       "      <td>male</td>\n",
       "      <td>3</td>\n",
       "      <td>0</td>\n",
       "    </tr>\n",
       "    <tr>\n",
       "      <th>1</th>\n",
       "      <td>2</td>\n",
       "      <td>PAIDOFF</td>\n",
       "      <td>1000</td>\n",
       "      <td>30</td>\n",
       "      <td>2016-09-08</td>\n",
       "      <td>2016-10-07</td>\n",
       "      <td>33</td>\n",
       "      <td>Bechalor</td>\n",
       "      <td>female</td>\n",
       "      <td>3</td>\n",
       "      <td>0</td>\n",
       "    </tr>\n",
       "    <tr>\n",
       "      <th>2</th>\n",
       "      <td>3</td>\n",
       "      <td>PAIDOFF</td>\n",
       "      <td>1000</td>\n",
       "      <td>15</td>\n",
       "      <td>2016-09-08</td>\n",
       "      <td>2016-09-22</td>\n",
       "      <td>27</td>\n",
       "      <td>college</td>\n",
       "      <td>male</td>\n",
       "      <td>3</td>\n",
       "      <td>0</td>\n",
       "    </tr>\n",
       "    <tr>\n",
       "      <th>3</th>\n",
       "      <td>4</td>\n",
       "      <td>PAIDOFF</td>\n",
       "      <td>1000</td>\n",
       "      <td>30</td>\n",
       "      <td>2016-09-09</td>\n",
       "      <td>2016-10-08</td>\n",
       "      <td>28</td>\n",
       "      <td>college</td>\n",
       "      <td>female</td>\n",
       "      <td>4</td>\n",
       "      <td>1</td>\n",
       "    </tr>\n",
       "    <tr>\n",
       "      <th>4</th>\n",
       "      <td>6</td>\n",
       "      <td>PAIDOFF</td>\n",
       "      <td>1000</td>\n",
       "      <td>30</td>\n",
       "      <td>2016-09-09</td>\n",
       "      <td>2016-10-08</td>\n",
       "      <td>29</td>\n",
       "      <td>college</td>\n",
       "      <td>male</td>\n",
       "      <td>4</td>\n",
       "      <td>1</td>\n",
       "    </tr>\n",
       "  </tbody>\n",
       "</table>\n",
       "</div>"
      ],
      "text/plain": [
       "   Unnamed: 0 loan_status  Principal  terms effective_date   due_date  age  \\\n",
       "0           0     PAIDOFF       1000     30     2016-09-08 2016-10-07   45   \n",
       "1           2     PAIDOFF       1000     30     2016-09-08 2016-10-07   33   \n",
       "2           3     PAIDOFF       1000     15     2016-09-08 2016-09-22   27   \n",
       "3           4     PAIDOFF       1000     30     2016-09-09 2016-10-08   28   \n",
       "4           6     PAIDOFF       1000     30     2016-09-09 2016-10-08   29   \n",
       "\n",
       "              education  Gender  dayofweek  weekend  \n",
       "0  High School or Below    male          3        0  \n",
       "1              Bechalor  female          3        0  \n",
       "2               college    male          3        0  \n",
       "3               college  female          4        1  \n",
       "4               college    male          4        1  "
      ]
     },
     "execution_count": 18,
     "metadata": {},
     "output_type": "execute_result"
    }
   ],
   "source": [
    "train['weekend']=train['dayofweek'].apply(lambda x:1 if (x>3) else 0)\n",
    "train.head()"
   ]
  },
  {
   "cell_type": "markdown",
   "metadata": {
    "papermill": {
     "duration": 0.050039,
     "end_time": "2021-03-09T08:54:29.269539",
     "exception": false,
     "start_time": "2021-03-09T08:54:29.219500",
     "status": "completed"
    },
    "tags": []
   },
   "source": [
    "### pivoting features of categorical"
   ]
  },
  {
   "cell_type": "code",
   "execution_count": 19,
   "metadata": {
    "execution": {
     "iopub.execute_input": "2021-03-09T08:54:29.377458Z",
     "iopub.status.busy": "2021-03-09T08:54:29.376675Z",
     "iopub.status.idle": "2021-03-09T08:54:29.379764Z",
     "shell.execute_reply": "2021-03-09T08:54:29.379123Z"
    },
    "papermill": {
     "duration": 0.060176,
     "end_time": "2021-03-09T08:54:29.379909",
     "exception": false,
     "start_time": "2021-03-09T08:54:29.319733",
     "status": "completed"
    },
    "tags": []
   },
   "outputs": [],
   "source": [
    "train['loan_status']=train['loan_status'].map({'PAIDOFF':1,'COLLECTION':0}).astype(int)"
   ]
  },
  {
   "cell_type": "code",
   "execution_count": 20,
   "metadata": {
    "execution": {
     "iopub.execute_input": "2021-03-09T08:54:29.501024Z",
     "iopub.status.busy": "2021-03-09T08:54:29.500002Z",
     "iopub.status.idle": "2021-03-09T08:54:29.504193Z",
     "shell.execute_reply": "2021-03-09T08:54:29.504635Z"
    },
    "papermill": {
     "duration": 0.07254,
     "end_time": "2021-03-09T08:54:29.504814",
     "exception": false,
     "start_time": "2021-03-09T08:54:29.432274",
     "status": "completed"
    },
    "scrolled": false,
    "tags": []
   },
   "outputs": [
    {
     "data": {
      "text/html": [
       "<div>\n",
       "<style scoped>\n",
       "    .dataframe tbody tr th:only-of-type {\n",
       "        vertical-align: middle;\n",
       "    }\n",
       "\n",
       "    .dataframe tbody tr th {\n",
       "        vertical-align: top;\n",
       "    }\n",
       "\n",
       "    .dataframe thead th {\n",
       "        text-align: right;\n",
       "    }\n",
       "</style>\n",
       "<table border=\"1\" class=\"dataframe\">\n",
       "  <thead>\n",
       "    <tr style=\"text-align: right;\">\n",
       "      <th></th>\n",
       "      <th>education</th>\n",
       "      <th>loan_status</th>\n",
       "    </tr>\n",
       "  </thead>\n",
       "  <tbody>\n",
       "    <tr>\n",
       "      <th>3</th>\n",
       "      <td>college</td>\n",
       "      <td>0.765</td>\n",
       "    </tr>\n",
       "    <tr>\n",
       "      <th>0</th>\n",
       "      <td>Bechalor</td>\n",
       "      <td>0.750</td>\n",
       "    </tr>\n",
       "    <tr>\n",
       "      <th>1</th>\n",
       "      <td>High School or Below</td>\n",
       "      <td>0.742</td>\n",
       "    </tr>\n",
       "    <tr>\n",
       "      <th>2</th>\n",
       "      <td>Master or Above</td>\n",
       "      <td>0.500</td>\n",
       "    </tr>\n",
       "  </tbody>\n",
       "</table>\n",
       "</div>"
      ],
      "text/plain": [
       "              education  loan_status\n",
       "3               college        0.765\n",
       "0              Bechalor        0.750\n",
       "1  High School or Below        0.742\n",
       "2       Master or Above        0.500"
      ]
     },
     "execution_count": 20,
     "metadata": {},
     "output_type": "execute_result"
    }
   ],
   "source": [
    "train[['education','loan_status']].groupby(['education'],as_index=False).mean().sort_values(by='loan_status',ascending=False)"
   ]
  },
  {
   "cell_type": "code",
   "execution_count": 21,
   "metadata": {
    "execution": {
     "iopub.execute_input": "2021-03-09T08:54:29.613453Z",
     "iopub.status.busy": "2021-03-09T08:54:29.612371Z",
     "iopub.status.idle": "2021-03-09T08:54:29.627072Z",
     "shell.execute_reply": "2021-03-09T08:54:29.627606Z"
    },
    "papermill": {
     "duration": 0.070931,
     "end_time": "2021-03-09T08:54:29.627792",
     "exception": false,
     "start_time": "2021-03-09T08:54:29.556861",
     "status": "completed"
    },
    "tags": []
   },
   "outputs": [
    {
     "data": {
      "text/html": [
       "<div>\n",
       "<style scoped>\n",
       "    .dataframe tbody tr th:only-of-type {\n",
       "        vertical-align: middle;\n",
       "    }\n",
       "\n",
       "    .dataframe tbody tr th {\n",
       "        vertical-align: top;\n",
       "    }\n",
       "\n",
       "    .dataframe thead th {\n",
       "        text-align: right;\n",
       "    }\n",
       "</style>\n",
       "<table border=\"1\" class=\"dataframe\">\n",
       "  <thead>\n",
       "    <tr style=\"text-align: right;\">\n",
       "      <th></th>\n",
       "      <th>Gender</th>\n",
       "      <th>loan_status</th>\n",
       "    </tr>\n",
       "  </thead>\n",
       "  <tbody>\n",
       "    <tr>\n",
       "      <th>0</th>\n",
       "      <td>female</td>\n",
       "      <td>0.865</td>\n",
       "    </tr>\n",
       "    <tr>\n",
       "      <th>1</th>\n",
       "      <td>male</td>\n",
       "      <td>0.731</td>\n",
       "    </tr>\n",
       "  </tbody>\n",
       "</table>\n",
       "</div>"
      ],
      "text/plain": [
       "   Gender  loan_status\n",
       "0  female        0.865\n",
       "1    male        0.731"
      ]
     },
     "execution_count": 21,
     "metadata": {},
     "output_type": "execute_result"
    }
   ],
   "source": [
    "train[['Gender','loan_status']].groupby(['Gender'],as_index=False).mean().sort_values(by='loan_status',ascending=False)"
   ]
  },
  {
   "cell_type": "markdown",
   "metadata": {
    "papermill": {
     "duration": 0.051664,
     "end_time": "2021-03-09T08:54:29.731665",
     "exception": false,
     "start_time": "2021-03-09T08:54:29.680001",
     "status": "completed"
    },
    "tags": []
   },
   "source": [
    "<a id=\"3\"></a> <br>\n",
    "# Feature Engineering"
   ]
  },
  {
   "cell_type": "markdown",
   "metadata": {
    "papermill": {
     "duration": 0.052489,
     "end_time": "2021-03-09T08:54:29.835934",
     "exception": false,
     "start_time": "2021-03-09T08:54:29.783445",
     "status": "completed"
    },
    "tags": []
   },
   "source": [
    "## Converting Categorical features into numerical"
   ]
  },
  {
   "cell_type": "code",
   "execution_count": 22,
   "metadata": {
    "execution": {
     "iopub.execute_input": "2021-03-09T08:54:29.946342Z",
     "iopub.status.busy": "2021-03-09T08:54:29.945666Z",
     "iopub.status.idle": "2021-03-09T08:54:29.952362Z",
     "shell.execute_reply": "2021-03-09T08:54:29.952852Z"
    },
    "papermill": {
     "duration": 0.064077,
     "end_time": "2021-03-09T08:54:29.953023",
     "exception": false,
     "start_time": "2021-03-09T08:54:29.888946",
     "status": "completed"
    },
    "tags": []
   },
   "outputs": [
    {
     "data": {
      "text/plain": [
       "male      294\n",
       "female     52\n",
       "Name: Gender, dtype: int64"
      ]
     },
     "execution_count": 22,
     "metadata": {},
     "output_type": "execute_result"
    }
   ],
   "source": [
    "#Gender feature\n",
    "train['Gender'].value_counts()"
   ]
  },
  {
   "cell_type": "code",
   "execution_count": 23,
   "metadata": {
    "execution": {
     "iopub.execute_input": "2021-03-09T08:54:30.064194Z",
     "iopub.status.busy": "2021-03-09T08:54:30.063542Z",
     "iopub.status.idle": "2021-03-09T08:54:30.069005Z",
     "shell.execute_reply": "2021-03-09T08:54:30.069548Z"
    },
    "papermill": {
     "duration": 0.063483,
     "end_time": "2021-03-09T08:54:30.069735",
     "exception": false,
     "start_time": "2021-03-09T08:54:30.006252",
     "status": "completed"
    },
    "tags": []
   },
   "outputs": [],
   "source": [
    "train['Gender']=train['Gender'].map({'male':1,'female':0}).astype(int)"
   ]
  },
  {
   "cell_type": "code",
   "execution_count": 24,
   "metadata": {
    "execution": {
     "iopub.execute_input": "2021-03-09T08:54:30.181460Z",
     "iopub.status.busy": "2021-03-09T08:54:30.180766Z",
     "iopub.status.idle": "2021-03-09T08:54:30.186061Z",
     "shell.execute_reply": "2021-03-09T08:54:30.186565Z"
    },
    "papermill": {
     "duration": 0.061962,
     "end_time": "2021-03-09T08:54:30.186744",
     "exception": false,
     "start_time": "2021-03-09T08:54:30.124782",
     "status": "completed"
    },
    "tags": []
   },
   "outputs": [
    {
     "data": {
      "text/plain": [
       "array([1, 0])"
      ]
     },
     "execution_count": 24,
     "metadata": {},
     "output_type": "execute_result"
    }
   ],
   "source": [
    "train.Gender.unique()"
   ]
  },
  {
   "cell_type": "code",
   "execution_count": 25,
   "metadata": {
    "execution": {
     "iopub.execute_input": "2021-03-09T08:54:30.301688Z",
     "iopub.status.busy": "2021-03-09T08:54:30.300956Z",
     "iopub.status.idle": "2021-03-09T08:54:30.307424Z",
     "shell.execute_reply": "2021-03-09T08:54:30.307903Z"
    },
    "papermill": {
     "duration": 0.065613,
     "end_time": "2021-03-09T08:54:30.308076",
     "exception": false,
     "start_time": "2021-03-09T08:54:30.242463",
     "status": "completed"
    },
    "tags": []
   },
   "outputs": [
    {
     "data": {
      "text/plain": [
       "High School or Below    151\n",
       "college                 149\n",
       "Bechalor                 44\n",
       "Master or Above           2\n",
       "Name: education, dtype: int64"
      ]
     },
     "execution_count": 25,
     "metadata": {},
     "output_type": "execute_result"
    }
   ],
   "source": [
    "#education\n",
    "train['education'].value_counts()"
   ]
  },
  {
   "cell_type": "code",
   "execution_count": 26,
   "metadata": {
    "execution": {
     "iopub.execute_input": "2021-03-09T08:54:30.420763Z",
     "iopub.status.busy": "2021-03-09T08:54:30.420082Z",
     "iopub.status.idle": "2021-03-09T08:54:30.425987Z",
     "shell.execute_reply": "2021-03-09T08:54:30.426476Z"
    },
    "papermill": {
     "duration": 0.063707,
     "end_time": "2021-03-09T08:54:30.426659",
     "exception": false,
     "start_time": "2021-03-09T08:54:30.362952",
     "status": "completed"
    },
    "tags": []
   },
   "outputs": [],
   "source": [
    "x=train.groupby(['education'])['loan_status'].mean().sort_values().index"
   ]
  },
  {
   "cell_type": "code",
   "execution_count": 27,
   "metadata": {
    "execution": {
     "iopub.execute_input": "2021-03-09T08:54:30.542338Z",
     "iopub.status.busy": "2021-03-09T08:54:30.541683Z",
     "iopub.status.idle": "2021-03-09T08:54:30.547523Z",
     "shell.execute_reply": "2021-03-09T08:54:30.547982Z"
    },
    "papermill": {
     "duration": 0.065444,
     "end_time": "2021-03-09T08:54:30.548230",
     "exception": false,
     "start_time": "2021-03-09T08:54:30.482786",
     "status": "completed"
    },
    "tags": []
   },
   "outputs": [],
   "source": [
    "train['education']=train['education'].map({k:i for i,k in enumerate(x,0)})"
   ]
  },
  {
   "cell_type": "code",
   "execution_count": 28,
   "metadata": {
    "execution": {
     "iopub.execute_input": "2021-03-09T08:54:30.666028Z",
     "iopub.status.busy": "2021-03-09T08:54:30.665045Z",
     "iopub.status.idle": "2021-03-09T08:54:30.668999Z",
     "shell.execute_reply": "2021-03-09T08:54:30.669534Z"
    },
    "papermill": {
     "duration": 0.065286,
     "end_time": "2021-03-09T08:54:30.669705",
     "exception": false,
     "start_time": "2021-03-09T08:54:30.604419",
     "status": "completed"
    },
    "tags": []
   },
   "outputs": [
    {
     "data": {
      "text/plain": [
       "array([1, 2, 3, 0])"
      ]
     },
     "execution_count": 28,
     "metadata": {},
     "output_type": "execute_result"
    }
   ],
   "source": [
    "train.education.unique()"
   ]
  },
  {
   "cell_type": "code",
   "execution_count": 29,
   "metadata": {
    "execution": {
     "iopub.execute_input": "2021-03-09T08:54:30.899542Z",
     "iopub.status.busy": "2021-03-09T08:54:30.894303Z",
     "iopub.status.idle": "2021-03-09T08:54:30.904858Z",
     "shell.execute_reply": "2021-03-09T08:54:30.904354Z"
    },
    "papermill": {
     "duration": 0.180207,
     "end_time": "2021-03-09T08:54:30.905007",
     "exception": false,
     "start_time": "2021-03-09T08:54:30.724800",
     "status": "completed"
    },
    "tags": []
   },
   "outputs": [
    {
     "data": {
      "text/html": [
       "<div>\n",
       "<style scoped>\n",
       "    .dataframe tbody tr th:only-of-type {\n",
       "        vertical-align: middle;\n",
       "    }\n",
       "\n",
       "    .dataframe tbody tr th {\n",
       "        vertical-align: top;\n",
       "    }\n",
       "\n",
       "    .dataframe thead th {\n",
       "        text-align: right;\n",
       "    }\n",
       "</style>\n",
       "<table border=\"1\" class=\"dataframe\">\n",
       "  <thead>\n",
       "    <tr style=\"text-align: right;\">\n",
       "      <th></th>\n",
       "      <th>Unnamed: 0</th>\n",
       "      <th>loan_status</th>\n",
       "      <th>Principal</th>\n",
       "      <th>terms</th>\n",
       "      <th>effective_date</th>\n",
       "      <th>due_date</th>\n",
       "      <th>age</th>\n",
       "      <th>education</th>\n",
       "      <th>Gender</th>\n",
       "      <th>dayofweek</th>\n",
       "      <th>weekend</th>\n",
       "    </tr>\n",
       "  </thead>\n",
       "  <tbody>\n",
       "    <tr>\n",
       "      <th>0</th>\n",
       "      <td>0</td>\n",
       "      <td>1</td>\n",
       "      <td>1000</td>\n",
       "      <td>30</td>\n",
       "      <td>2016-09-08</td>\n",
       "      <td>2016-10-07</td>\n",
       "      <td>45</td>\n",
       "      <td>1</td>\n",
       "      <td>1</td>\n",
       "      <td>3</td>\n",
       "      <td>0</td>\n",
       "    </tr>\n",
       "    <tr>\n",
       "      <th>1</th>\n",
       "      <td>2</td>\n",
       "      <td>1</td>\n",
       "      <td>1000</td>\n",
       "      <td>30</td>\n",
       "      <td>2016-09-08</td>\n",
       "      <td>2016-10-07</td>\n",
       "      <td>33</td>\n",
       "      <td>2</td>\n",
       "      <td>0</td>\n",
       "      <td>3</td>\n",
       "      <td>0</td>\n",
       "    </tr>\n",
       "    <tr>\n",
       "      <th>2</th>\n",
       "      <td>3</td>\n",
       "      <td>1</td>\n",
       "      <td>1000</td>\n",
       "      <td>15</td>\n",
       "      <td>2016-09-08</td>\n",
       "      <td>2016-09-22</td>\n",
       "      <td>27</td>\n",
       "      <td>3</td>\n",
       "      <td>1</td>\n",
       "      <td>3</td>\n",
       "      <td>0</td>\n",
       "    </tr>\n",
       "    <tr>\n",
       "      <th>3</th>\n",
       "      <td>4</td>\n",
       "      <td>1</td>\n",
       "      <td>1000</td>\n",
       "      <td>30</td>\n",
       "      <td>2016-09-09</td>\n",
       "      <td>2016-10-08</td>\n",
       "      <td>28</td>\n",
       "      <td>3</td>\n",
       "      <td>0</td>\n",
       "      <td>4</td>\n",
       "      <td>1</td>\n",
       "    </tr>\n",
       "    <tr>\n",
       "      <th>4</th>\n",
       "      <td>6</td>\n",
       "      <td>1</td>\n",
       "      <td>1000</td>\n",
       "      <td>30</td>\n",
       "      <td>2016-09-09</td>\n",
       "      <td>2016-10-08</td>\n",
       "      <td>29</td>\n",
       "      <td>3</td>\n",
       "      <td>1</td>\n",
       "      <td>4</td>\n",
       "      <td>1</td>\n",
       "    </tr>\n",
       "  </tbody>\n",
       "</table>\n",
       "</div>"
      ],
      "text/plain": [
       "   Unnamed: 0  loan_status  Principal  terms effective_date   due_date  age  \\\n",
       "0           0            1       1000     30     2016-09-08 2016-10-07   45   \n",
       "1           2            1       1000     30     2016-09-08 2016-10-07   33   \n",
       "2           3            1       1000     15     2016-09-08 2016-09-22   27   \n",
       "3           4            1       1000     30     2016-09-09 2016-10-08   28   \n",
       "4           6            1       1000     30     2016-09-09 2016-10-08   29   \n",
       "\n",
       "   education  Gender  dayofweek  weekend  \n",
       "0          1       1          3        0  \n",
       "1          2       0          3        0  \n",
       "2          3       1          3        0  \n",
       "3          3       0          4        1  \n",
       "4          3       1          4        1  "
      ]
     },
     "execution_count": 29,
     "metadata": {},
     "output_type": "execute_result"
    }
   ],
   "source": [
    "train.head()"
   ]
  },
  {
   "cell_type": "markdown",
   "metadata": {
    "papermill": {
     "duration": 0.060229,
     "end_time": "2021-03-09T08:54:31.023893",
     "exception": false,
     "start_time": "2021-03-09T08:54:30.963664",
     "status": "completed"
    },
    "tags": []
   },
   "source": [
    "### Treating outliers\n",
    "\n",
    "herer we have only **age** feature as continuous variable"
   ]
  },
  {
   "cell_type": "code",
   "execution_count": 30,
   "metadata": {
    "execution": {
     "iopub.execute_input": "2021-03-09T08:54:31.142120Z",
     "iopub.status.busy": "2021-03-09T08:54:31.141325Z",
     "iopub.status.idle": "2021-03-09T08:54:31.144784Z",
     "shell.execute_reply": "2021-03-09T08:54:31.143922Z"
    },
    "papermill": {
     "duration": 0.065138,
     "end_time": "2021-03-09T08:54:31.144939",
     "exception": false,
     "start_time": "2021-03-09T08:54:31.079801",
     "status": "completed"
    },
    "tags": []
   },
   "outputs": [],
   "source": [
    "import scipy.stats as stats"
   ]
  },
  {
   "cell_type": "code",
   "execution_count": 31,
   "metadata": {
    "execution": {
     "iopub.execute_input": "2021-03-09T08:54:31.289950Z",
     "iopub.status.busy": "2021-03-09T08:54:31.281621Z",
     "iopub.status.idle": "2021-03-09T08:54:31.835663Z",
     "shell.execute_reply": "2021-03-09T08:54:31.834974Z"
    },
    "papermill": {
     "duration": 0.63403,
     "end_time": "2021-03-09T08:54:31.835822",
     "exception": false,
     "start_time": "2021-03-09T08:54:31.201792",
     "status": "completed"
    },
    "tags": []
   },
   "outputs": [
    {
     "data": {
      "text/plain": [
       "Text(0.5, 1.0, 'Histogram')"
      ]
     },
     "execution_count": 31,
     "metadata": {},
     "output_type": "execute_result"
    },
    {
     "data": {
      "image/png": "[encoded data removed]",
      "text/plain": [
       "<Figure size 1152x432 with 3 Axes>"
      ]
     },
     "metadata": {},
     "output_type": "display_data"
    }
   ],
   "source": [
    "#diagnostic of age\n",
    "\n",
    "plt.figure(figsize=(16,6))\n",
    "\n",
    "plt.subplot(1,3,1)\n",
    "sns.boxplot(train.age)\n",
    "plt.plot('boxplot')\n",
    "\n",
    "plt.subplot(1,3,2)\n",
    "stats.probplot(train.age,dist='norm',plot=plt)\n",
    "plt.title('Q-Q')\n",
    "\n",
    "plt.subplot(1,3,3)\n",
    "plt.hist(train.age,bins=20)\n",
    "plt.title('Histogram')"
   ]
  },
  {
   "cell_type": "code",
   "execution_count": 32,
   "metadata": {
    "execution": {
     "iopub.execute_input": "2021-03-09T08:54:31.961921Z",
     "iopub.status.busy": "2021-03-09T08:54:31.961135Z",
     "iopub.status.idle": "2021-03-09T08:54:31.964959Z",
     "shell.execute_reply": "2021-03-09T08:54:31.964421Z"
    },
    "papermill": {
     "duration": 0.070763,
     "end_time": "2021-03-09T08:54:31.965098",
     "exception": false,
     "start_time": "2021-03-09T08:54:31.894335",
     "status": "completed"
    },
    "tags": []
   },
   "outputs": [],
   "source": [
    "lower_bound=0.065\n",
    "upper_bound=0.95\n",
    "\n",
    "lower=train['age'].quantile(lower_bound)\n",
    "upper=train['age'].quantile(upper_bound)"
   ]
  },
  {
   "cell_type": "code",
   "execution_count": 33,
   "metadata": {
    "execution": {
     "iopub.execute_input": "2021-03-09T08:54:32.087680Z",
     "iopub.status.busy": "2021-03-09T08:54:32.086799Z",
     "iopub.status.idle": "2021-03-09T08:54:32.092680Z",
     "shell.execute_reply": "2021-03-09T08:54:32.093196Z"
    },
    "papermill": {
     "duration": 0.07005,
     "end_time": "2021-03-09T08:54:32.093394",
     "exception": false,
     "start_time": "2021-03-09T08:54:32.023344",
     "status": "completed"
    },
    "tags": []
   },
   "outputs": [],
   "source": [
    "train['age']=np.where(train['age']<lower,lower,np.where(train['age']>upper,upper,train['age']))"
   ]
  },
  {
   "cell_type": "code",
   "execution_count": 34,
   "metadata": {
    "execution": {
     "iopub.execute_input": "2021-03-09T08:54:32.219744Z",
     "iopub.status.busy": "2021-03-09T08:54:32.219065Z",
     "iopub.status.idle": "2021-03-09T08:54:32.368614Z",
     "shell.execute_reply": "2021-03-09T08:54:32.369095Z"
    },
    "papermill": {
     "duration": 0.213882,
     "end_time": "2021-03-09T08:54:32.369320",
     "exception": false,
     "start_time": "2021-03-09T08:54:32.155438",
     "status": "completed"
    },
    "tags": []
   },
   "outputs": [
    {
     "data": {
      "text/plain": [
       "<AxesSubplot:xlabel='age'>"
      ]
     },
     "execution_count": 34,
     "metadata": {},
     "output_type": "execute_result"
    },
    {
     "data": {
      "image/png": "[encoded data removed]",
      "text/plain": [
       "<Figure size 432x288 with 1 Axes>"
      ]
     },
     "metadata": {},
     "output_type": "display_data"
    }
   ],
   "source": [
    "sns.boxplot(train.age)"
   ]
  },
  {
   "cell_type": "code",
   "execution_count": 35,
   "metadata": {
    "execution": {
     "iopub.execute_input": "2021-03-09T08:54:32.493399Z",
     "iopub.status.busy": "2021-03-09T08:54:32.492713Z",
     "iopub.status.idle": "2021-03-09T08:54:33.051038Z",
     "shell.execute_reply": "2021-03-09T08:54:33.051512Z"
    },
    "papermill": {
     "duration": 0.622228,
     "end_time": "2021-03-09T08:54:33.051690",
     "exception": false,
     "start_time": "2021-03-09T08:54:32.429462",
     "status": "completed"
    },
    "tags": []
   },
   "outputs": [
    {
     "data": {
      "text/plain": [
       "Text(0.5, 1.0, 'Histogram')"
      ]
     },
     "execution_count": 35,
     "metadata": {},
     "output_type": "execute_result"
    },
    {
     "data": {
      "image/png": "[encoded data removed]",
      "text/plain": [
       "<Figure size 1152x432 with 3 Axes>"
      ]
     },
     "metadata": {},
     "output_type": "display_data"
    }
   ],
   "source": [
    "#diagnostic of age\n",
    "\n",
    "plt.figure(figsize=(16,6))\n",
    "\n",
    "plt.subplot(1,3,1)\n",
    "sns.boxplot(train.age)\n",
    "plt.plot('boxplot')\n",
    "\n",
    "plt.subplot(1,3,2)\n",
    "stats.probplot(train.age,dist='norm',plot=plt)\n",
    "plt.title('Q-Q')\n",
    "\n",
    "plt.subplot(1,3,3)\n",
    "plt.hist(train.age,bins=20)\n",
    "plt.title('Histogram')"
   ]
  },
  {
   "cell_type": "markdown",
   "metadata": {
    "papermill": {
     "duration": 0.059229,
     "end_time": "2021-03-09T08:54:33.170921",
     "exception": false,
     "start_time": "2021-03-09T08:54:33.111692",
     "status": "completed"
    },
    "tags": []
   },
   "source": [
    "###  Features Selection"
   ]
  },
  {
   "cell_type": "code",
   "execution_count": 36,
   "metadata": {
    "execution": {
     "iopub.execute_input": "2021-03-09T08:54:33.295763Z",
     "iopub.status.busy": "2021-03-09T08:54:33.295147Z",
     "iopub.status.idle": "2021-03-09T08:54:33.299846Z",
     "shell.execute_reply": "2021-03-09T08:54:33.300353Z"
    },
    "papermill": {
     "duration": 0.06967,
     "end_time": "2021-03-09T08:54:33.300515",
     "exception": false,
     "start_time": "2021-03-09T08:54:33.230845",
     "status": "completed"
    },
    "tags": []
   },
   "outputs": [
    {
     "data": {
      "text/plain": [
       "Index(['Unnamed: 0', 'loan_status', 'Principal', 'terms', 'effective_date',\n",
       "       'due_date', 'age', 'education', 'Gender', 'dayofweek', 'weekend'],\n",
       "      dtype='object')"
      ]
     },
     "execution_count": 36,
     "metadata": {},
     "output_type": "execute_result"
    }
   ],
   "source": [
    "train.columns"
   ]
  },
  {
   "cell_type": "code",
   "execution_count": 37,
   "metadata": {
    "execution": {
     "iopub.execute_input": "2021-03-09T08:54:33.422703Z",
     "iopub.status.busy": "2021-03-09T08:54:33.421989Z",
     "iopub.status.idle": "2021-03-09T08:54:33.428111Z",
     "shell.execute_reply": "2021-03-09T08:54:33.427613Z"
    },
    "papermill": {
     "duration": 0.068397,
     "end_time": "2021-03-09T08:54:33.428284",
     "exception": false,
     "start_time": "2021-03-09T08:54:33.359887",
     "status": "completed"
    },
    "tags": []
   },
   "outputs": [],
   "source": [
    "train=train[['Principal','terms','age','Gender','education','weekend','loan_status']]"
   ]
  },
  {
   "cell_type": "code",
   "execution_count": 38,
   "metadata": {
    "execution": {
     "iopub.execute_input": "2021-03-09T08:54:33.555929Z",
     "iopub.status.busy": "2021-03-09T08:54:33.555109Z",
     "iopub.status.idle": "2021-03-09T08:54:33.558078Z",
     "shell.execute_reply": "2021-03-09T08:54:33.557558Z"
    },
    "papermill": {
     "duration": 0.069318,
     "end_time": "2021-03-09T08:54:33.558247",
     "exception": false,
     "start_time": "2021-03-09T08:54:33.488929",
     "status": "completed"
    },
    "tags": []
   },
   "outputs": [],
   "source": [
    "X=train.drop('loan_status',axis=1).values\n",
    "y=train.loan_status.values"
   ]
  },
  {
   "cell_type": "code",
   "execution_count": 39,
   "metadata": {
    "execution": {
     "iopub.execute_input": "2021-03-09T08:54:33.684916Z",
     "iopub.status.busy": "2021-03-09T08:54:33.684236Z",
     "iopub.status.idle": "2021-03-09T08:54:33.687093Z",
     "shell.execute_reply": "2021-03-09T08:54:33.686628Z"
    },
    "papermill": {
     "duration": 0.068481,
     "end_time": "2021-03-09T08:54:33.687272",
     "exception": false,
     "start_time": "2021-03-09T08:54:33.618791",
     "status": "completed"
    },
    "tags": []
   },
   "outputs": [],
   "source": [
    "from sklearn.preprocessing import StandardScaler\n",
    "sc=StandardScaler()\n",
    "X=sc.fit_transform(X)"
   ]
  },
  {
   "cell_type": "code",
   "execution_count": 40,
   "metadata": {
    "execution": {
     "iopub.execute_input": "2021-03-09T08:54:33.813818Z",
     "iopub.status.busy": "2021-03-09T08:54:33.812999Z",
     "iopub.status.idle": "2021-03-09T08:54:33.815799Z",
     "shell.execute_reply": "2021-03-09T08:54:33.815303Z"
    },
    "papermill": {
     "duration": 0.068537,
     "end_time": "2021-03-09T08:54:33.815942",
     "exception": false,
     "start_time": "2021-03-09T08:54:33.747405",
     "status": "completed"
    },
    "tags": []
   },
   "outputs": [],
   "source": [
    "from sklearn.model_selection import train_test_split\n",
    "X_train,X_test,y_train,y_test=train_test_split(X,y,test_size=0.3,random_state=0)"
   ]
  },
  {
   "cell_type": "code",
   "execution_count": 41,
   "metadata": {
    "execution": {
     "iopub.execute_input": "2021-03-09T08:54:33.942788Z",
     "iopub.status.busy": "2021-03-09T08:54:33.942062Z",
     "iopub.status.idle": "2021-03-09T08:54:33.943935Z",
     "shell.execute_reply": "2021-03-09T08:54:33.944529Z"
    },
    "papermill": {
     "duration": 0.068167,
     "end_time": "2021-03-09T08:54:33.944695",
     "exception": false,
     "start_time": "2021-03-09T08:54:33.876528",
     "status": "completed"
    },
    "tags": []
   },
   "outputs": [],
   "source": [
    "from sklearn.neighbors import KNeighborsClassifier\n",
    "from sklearn.tree import DecisionTreeClassifier\n",
    "from sklearn.svm import SVC\n",
    "from sklearn.metrics import mean_squared_error,accuracy_score"
   ]
  },
  {
   "cell_type": "markdown",
   "metadata": {
    "papermill": {
     "duration": 0.060205,
     "end_time": "2021-03-09T08:54:34.066904",
     "exception": false,
     "start_time": "2021-03-09T08:54:34.006699",
     "status": "completed"
    },
    "tags": []
   },
   "source": [
    "<a id=\"4\"></a><br>\n",
    "# Modeling"
   ]
  },
  {
   "cell_type": "markdown",
   "metadata": {
    "papermill": {
     "duration": 0.060064,
     "end_time": "2021-03-09T08:54:34.187330",
     "exception": false,
     "start_time": "2021-03-09T08:54:34.127266",
     "status": "completed"
    },
    "tags": []
   },
   "source": [
    "## KNeighborsClassifier"
   ]
  },
  {
   "cell_type": "code",
   "execution_count": 42,
   "metadata": {
    "execution": {
     "iopub.execute_input": "2021-03-09T08:54:34.311211Z",
     "iopub.status.busy": "2021-03-09T08:54:34.310576Z",
     "iopub.status.idle": "2021-03-09T08:54:34.369521Z",
     "shell.execute_reply": "2021-03-09T08:54:34.369002Z"
    },
    "papermill": {
     "duration": 0.122068,
     "end_time": "2021-03-09T08:54:34.369665",
     "exception": false,
     "start_time": "2021-03-09T08:54:34.247597",
     "status": "completed"
    },
    "scrolled": true,
    "tags": []
   },
   "outputs": [
    {
     "data": {
      "text/plain": [
       "array([0.71153846, 0.68269231, 0.75961538, 0.70192308, 0.74038462,\n",
       "       0.65384615, 0.70192308, 0.66346154, 0.65384615])"
      ]
     },
     "execution_count": 42,
     "metadata": {},
     "output_type": "execute_result"
    }
   ],
   "source": [
    "ks=10\n",
    "mean_acc=np.zeros((ks-1))\n",
    "std_acc=np.zeros((ks-1))\n",
    "for n in range(1,ks):\n",
    "    neigh=KNeighborsClassifier(n_neighbors=n).fit(X_train,y_train)\n",
    "    yhat=neigh.predict(X_test)\n",
    "    mean_acc[n-1]=accuracy_score(y_test,yhat)\n",
    "    std_acc[n-1]=np.std(y_test==yhat)//np.sqrt(yhat.shape[0])\n",
    "    \n",
    "mean_acc"
   ]
  },
  {
   "cell_type": "code",
   "execution_count": 43,
   "metadata": {
    "execution": {
     "iopub.execute_input": "2021-03-09T08:54:34.496690Z",
     "iopub.status.busy": "2021-03-09T08:54:34.496004Z",
     "iopub.status.idle": "2021-03-09T08:54:34.498791Z",
     "shell.execute_reply": "2021-03-09T08:54:34.499297Z"
    },
    "papermill": {
     "duration": 0.068857,
     "end_time": "2021-03-09T08:54:34.499466",
     "exception": false,
     "start_time": "2021-03-09T08:54:34.430609",
     "status": "completed"
    },
    "tags": []
   },
   "outputs": [
    {
     "data": {
      "text/plain": [
       "3"
      ]
     },
     "execution_count": 43,
     "metadata": {},
     "output_type": "execute_result"
    }
   ],
   "source": [
    "mean_acc.argmax()+1"
   ]
  },
  {
   "cell_type": "code",
   "execution_count": 44,
   "metadata": {
    "execution": {
     "iopub.execute_input": "2021-03-09T08:54:34.626968Z",
     "iopub.status.busy": "2021-03-09T08:54:34.626370Z",
     "iopub.status.idle": "2021-03-09T08:54:34.631368Z",
     "shell.execute_reply": "2021-03-09T08:54:34.631872Z"
    },
    "papermill": {
     "duration": 0.070166,
     "end_time": "2021-03-09T08:54:34.632035",
     "exception": false,
     "start_time": "2021-03-09T08:54:34.561869",
     "status": "completed"
    },
    "tags": []
   },
   "outputs": [
    {
     "name": "stdout",
     "output_type": "stream",
     "text": [
      "the best accuracy was with 0.7596153846153846 with k= 3\n"
     ]
    }
   ],
   "source": [
    "print(\"the best accuracy was with\",mean_acc.max(),\"with k=\",mean_acc.argmax()+1)"
   ]
  },
  {
   "cell_type": "code",
   "execution_count": 45,
   "metadata": {
    "execution": {
     "iopub.execute_input": "2021-03-09T08:54:34.760933Z",
     "iopub.status.busy": "2021-03-09T08:54:34.760337Z",
     "iopub.status.idle": "2021-03-09T08:54:34.771203Z",
     "shell.execute_reply": "2021-03-09T08:54:34.770614Z"
    },
    "papermill": {
     "duration": 0.076328,
     "end_time": "2021-03-09T08:54:34.771359",
     "exception": false,
     "start_time": "2021-03-09T08:54:34.695031",
     "status": "completed"
    },
    "tags": []
   },
   "outputs": [],
   "source": [
    "neigh=KNeighborsClassifier(n_neighbors=3).fit(X_train,y_train)\n",
    "ypred_knn=neigh.predict(X_test)"
   ]
  },
  {
   "cell_type": "code",
   "execution_count": 46,
   "metadata": {
    "execution": {
     "iopub.execute_input": "2021-03-09T08:54:34.901409Z",
     "iopub.status.busy": "2021-03-09T08:54:34.900783Z",
     "iopub.status.idle": "2021-03-09T08:54:34.904677Z",
     "shell.execute_reply": "2021-03-09T08:54:34.905250Z"
    },
    "papermill": {
     "duration": 0.07094,
     "end_time": "2021-03-09T08:54:34.905425",
     "exception": false,
     "start_time": "2021-03-09T08:54:34.834485",
     "status": "completed"
    },
    "tags": []
   },
   "outputs": [
    {
     "data": {
      "text/plain": [
       "0.7596153846153846"
      ]
     },
     "execution_count": 46,
     "metadata": {},
     "output_type": "execute_result"
    }
   ],
   "source": [
    "accuracy_score(y_test,ypred_knn)"
   ]
  },
  {
   "cell_type": "markdown",
   "metadata": {
    "papermill": {
     "duration": 0.062507,
     "end_time": "2021-03-09T08:54:35.034130",
     "exception": false,
     "start_time": "2021-03-09T08:54:34.971623",
     "status": "completed"
    },
    "tags": []
   },
   "source": [
    "## SVC"
   ]
  },
  {
   "cell_type": "code",
   "execution_count": 47,
   "metadata": {
    "execution": {
     "iopub.execute_input": "2021-03-09T08:54:35.163445Z",
     "iopub.status.busy": "2021-03-09T08:54:35.162833Z",
     "iopub.status.idle": "2021-03-09T08:54:35.176011Z",
     "shell.execute_reply": "2021-03-09T08:54:35.175463Z"
    },
    "papermill": {
     "duration": 0.07842,
     "end_time": "2021-03-09T08:54:35.176173",
     "exception": false,
     "start_time": "2021-03-09T08:54:35.097753",
     "status": "completed"
    },
    "tags": []
   },
   "outputs": [
    {
     "data": {
      "text/plain": [
       "0.7403846153846154"
      ]
     },
     "execution_count": 47,
     "metadata": {},
     "output_type": "execute_result"
    }
   ],
   "source": [
    "svc=SVC(kernel='rbf')\n",
    "svc.fit(X_train,y_train)\n",
    "ypred_svc=svc.predict(X_test)\n",
    "accuracy_score(y_test,ypred_svc)"
   ]
  },
  {
   "cell_type": "markdown",
   "metadata": {
    "papermill": {
     "duration": 0.062541,
     "end_time": "2021-03-09T08:54:35.302135",
     "exception": false,
     "start_time": "2021-03-09T08:54:35.239594",
     "status": "completed"
    },
    "tags": []
   },
   "source": [
    "## Decision Tree Classifier"
   ]
  },
  {
   "cell_type": "code",
   "execution_count": 48,
   "metadata": {
    "execution": {
     "iopub.execute_input": "2021-03-09T08:54:35.431619Z",
     "iopub.status.busy": "2021-03-09T08:54:35.430950Z",
     "iopub.status.idle": "2021-03-09T08:54:35.438038Z",
     "shell.execute_reply": "2021-03-09T08:54:35.437521Z"
    },
    "papermill": {
     "duration": 0.073231,
     "end_time": "2021-03-09T08:54:35.438213",
     "exception": false,
     "start_time": "2021-03-09T08:54:35.364982",
     "status": "completed"
    },
    "tags": []
   },
   "outputs": [],
   "source": [
    "from sklearn.pipeline import make_pipeline\n",
    "from sklearn.ensemble import BaggingClassifier"
   ]
  },
  {
   "cell_type": "code",
   "execution_count": 49,
   "metadata": {
    "execution": {
     "iopub.execute_input": "2021-03-09T08:54:35.570938Z",
     "iopub.status.busy": "2021-03-09T08:54:35.570309Z",
     "iopub.status.idle": "2021-03-09T08:54:35.575092Z",
     "shell.execute_reply": "2021-03-09T08:54:35.575599Z"
    },
    "papermill": {
     "duration": 0.074052,
     "end_time": "2021-03-09T08:54:35.575776",
     "exception": false,
     "start_time": "2021-03-09T08:54:35.501724",
     "status": "completed"
    },
    "tags": []
   },
   "outputs": [
    {
     "data": {
      "text/plain": [
       "0.7355371900826446"
      ]
     },
     "execution_count": 49,
     "metadata": {},
     "output_type": "execute_result"
    }
   ],
   "source": [
    "pipeline=make_pipeline(DecisionTreeClassifier(criterion='entropy',max_depth=4))\n",
    "pipeline.fit(X_train,y_train)\n",
    "pipeline.score(X_train,y_train)"
   ]
  },
  {
   "cell_type": "code",
   "execution_count": 50,
   "metadata": {
    "execution": {
     "iopub.execute_input": "2021-03-09T08:54:35.707268Z",
     "iopub.status.busy": "2021-03-09T08:54:35.706609Z",
     "iopub.status.idle": "2021-03-09T08:54:35.712649Z",
     "shell.execute_reply": "2021-03-09T08:54:35.713082Z"
    },
    "papermill": {
     "duration": 0.07335,
     "end_time": "2021-03-09T08:54:35.713278",
     "exception": false,
     "start_time": "2021-03-09T08:54:35.639928",
     "status": "completed"
    },
    "tags": []
   },
   "outputs": [
    {
     "data": {
      "text/plain": [
       "0.7980769230769231"
      ]
     },
     "execution_count": 50,
     "metadata": {},
     "output_type": "execute_result"
    }
   ],
   "source": [
    "pipeline.score(X_test,y_test)"
   ]
  },
  {
   "cell_type": "code",
   "execution_count": 51,
   "metadata": {
    "execution": {
     "iopub.execute_input": "2021-03-09T08:54:35.845076Z",
     "iopub.status.busy": "2021-03-09T08:54:35.844142Z",
     "iopub.status.idle": "2021-03-09T08:54:38.098362Z",
     "shell.execute_reply": "2021-03-09T08:54:38.098964Z"
    },
    "papermill": {
     "duration": 2.321859,
     "end_time": "2021-03-09T08:54:38.099143",
     "exception": false,
     "start_time": "2021-03-09T08:54:35.777284",
     "status": "completed"
    },
    "tags": []
   },
   "outputs": [
    {
     "data": {
      "text/plain": [
       "BaggingClassifier(base_estimator=Pipeline(steps=[('decisiontreeclassifier',\n",
       "                                                  DecisionTreeClassifier(criterion='entropy',\n",
       "                                                                         max_depth=4))]),\n",
       "                  max_samples=10, n_estimators=100, n_jobs=5, random_state=1)"
      ]
     },
     "execution_count": 51,
     "metadata": {},
     "output_type": "execute_result"
    }
   ],
   "source": [
    "bgclf=BaggingClassifier(base_estimator=pipeline,n_estimators=100,max_samples=10,random_state=1,n_jobs=5)\n",
    "bgclf.fit(X_train,y_train)"
   ]
  },
  {
   "cell_type": "code",
   "execution_count": 52,
   "metadata": {
    "execution": {
     "iopub.execute_input": "2021-03-09T08:54:38.236943Z",
     "iopub.status.busy": "2021-03-09T08:54:38.234975Z",
     "iopub.status.idle": "2021-03-09T08:54:38.327008Z",
     "shell.execute_reply": "2021-03-09T08:54:38.326412Z"
    },
    "papermill": {
     "duration": 0.159706,
     "end_time": "2021-03-09T08:54:38.327149",
     "exception": false,
     "start_time": "2021-03-09T08:54:38.167443",
     "status": "completed"
    },
    "tags": []
   },
   "outputs": [
    {
     "data": {
      "text/plain": [
       "0.7355371900826446"
      ]
     },
     "execution_count": 52,
     "metadata": {},
     "output_type": "execute_result"
    }
   ],
   "source": [
    "bgclf.score(X_train,y_train)"
   ]
  },
  {
   "cell_type": "code",
   "execution_count": 53,
   "metadata": {
    "execution": {
     "iopub.execute_input": "2021-03-09T08:54:38.459931Z",
     "iopub.status.busy": "2021-03-09T08:54:38.459328Z",
     "iopub.status.idle": "2021-03-09T08:54:38.546311Z",
     "shell.execute_reply": "2021-03-09T08:54:38.545678Z"
    },
    "papermill": {
     "duration": 0.154453,
     "end_time": "2021-03-09T08:54:38.546450",
     "exception": false,
     "start_time": "2021-03-09T08:54:38.391997",
     "status": "completed"
    },
    "tags": []
   },
   "outputs": [
    {
     "data": {
      "text/plain": [
       "0.7980769230769231"
      ]
     },
     "execution_count": 53,
     "metadata": {},
     "output_type": "execute_result"
    }
   ],
   "source": [
    "bgclf.score(X_test,y_test)"
   ]
  },
  {
   "cell_type": "markdown",
   "metadata": {
    "papermill": {
     "duration": 0.065466,
     "end_time": "2021-03-09T08:54:38.677225",
     "exception": false,
     "start_time": "2021-03-09T08:54:38.611759",
     "status": "completed"
    },
    "tags": []
   },
   "source": [
    "We can decide our model as Decision Tree Classifier"
   ]
  },
  {
   "cell_type": "code",
   "execution_count": 54,
   "metadata": {
    "execution": {
     "iopub.execute_input": "2021-03-09T08:54:38.811989Z",
     "iopub.status.busy": "2021-03-09T08:54:38.811074Z",
     "iopub.status.idle": "2021-03-09T08:54:38.892018Z",
     "shell.execute_reply": "2021-03-09T08:54:38.891453Z"
    },
    "papermill": {
     "duration": 0.1495,
     "end_time": "2021-03-09T08:54:38.892198",
     "exception": false,
     "start_time": "2021-03-09T08:54:38.742698",
     "status": "completed"
    },
    "tags": []
   },
   "outputs": [],
   "source": [
    "y_pred=bgclf.predict(X_test)"
   ]
  },
  {
   "cell_type": "code",
   "execution_count": 55,
   "metadata": {
    "execution": {
     "iopub.execute_input": "2021-03-09T08:54:39.029343Z",
     "iopub.status.busy": "2021-03-09T08:54:39.028642Z",
     "iopub.status.idle": "2021-03-09T08:54:39.031623Z",
     "shell.execute_reply": "2021-03-09T08:54:39.032276Z"
    },
    "papermill": {
     "duration": 0.074108,
     "end_time": "2021-03-09T08:54:39.032448",
     "exception": false,
     "start_time": "2021-03-09T08:54:38.958340",
     "status": "completed"
    },
    "tags": []
   },
   "outputs": [
    {
     "data": {
      "text/plain": [
       "0.7980769230769231"
      ]
     },
     "execution_count": 55,
     "metadata": {},
     "output_type": "execute_result"
    }
   ],
   "source": [
    "accuracy_score(y_pred,y_test)"
   ]
  },
  {
   "cell_type": "code",
   "execution_count": null,
   "metadata": {
    "papermill": {
     "duration": 0.066549,
     "end_time": "2021-03-09T08:54:39.166469",
     "exception": false,
     "start_time": "2021-03-09T08:54:39.099920",
     "status": "completed"
    },
    "tags": []
   },
   "outputs": [],
   "source": []
  }
 ],
 "metadata": {
  "kernelspec": {
   "display_name": "Python 3",
   "language": "python",
   "name": "python3"
  },
  "language_info": {
   "codemirror_mode": {
    "name": "ipython",
    "version": 3
   },
   "file_extension": ".py",
   "mimetype": "text/x-python",
   "name": "python",
   "nbconvert_exporter": "python",
   "pygments_lexer": "ipython3",
   "version": "3.7.9"
  },
  "papermill": {
   "default_parameters": {},
   "duration": 23.149666,
   "end_time": "2021-03-09T08:54:40.146091",
   "environment_variables": {},
   "exception": null,
   "input_path": "__notebook__.ipynb",
   "output_path": "__notebook__.ipynb",
   "parameters": {},
   "start_time": "2021-03-09T08:54:16.996425",
   "version": "2.2.2"
  }
 },
 "nbformat": 4,
 "nbformat_minor": 4
}
